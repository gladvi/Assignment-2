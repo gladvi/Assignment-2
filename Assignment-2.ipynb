{
 "cells": [
  {
   "cell_type": "code",
   "execution_count": 4,
   "metadata": {},
   "outputs": [
    {
     "name": "stdout",
     "output_type": "stream",
     "text": [
      "Gladvi sowmya\n",
      "#20 west road Austin town\n",
      "Bangalore\n",
      "560047\n"
     ]
    }
   ],
   "source": [
    "## Mailing Address\n",
    "name=\"Gladvi Sowmya\"\n",
    "address=\"#20 west road Austin town\" \n",
    "city=\"Bangalore\"\n",
    "pincode=\"560047\"\n",
    "print(name)\n",
    "print(address)\n",
    "print(city)\n",
    "print(pincode)"
   ]
  },
  {
   "cell_type": "code",
   "execution_count": 5,
   "metadata": {},
   "outputs": [
    {
     "name": "stdout",
     "output_type": "stream",
     "text": [
      "Please enter your name : Gladvi\n",
      "Hello Gladvi Have a great day !!\n"
     ]
    }
   ],
   "source": [
    "## Hello\n",
    "userName= input(\"Please enter your name : \")\n",
    "print(\"Hello\",userName,\"Have a great day !!\" )"
   ]
  },
  {
   "cell_type": "code",
   "execution_count": 10,
   "metadata": {},
   "outputs": [
    {
     "name": "stdout",
     "output_type": "stream",
     "text": [
      "Please enter the width of the room :12.4\n",
      "Please enter the length of the room :25.7\n",
      "The Area of the room is : 318.68 mts\n"
     ]
    }
   ],
   "source": [
    "## Area of a room\n",
    "width=float(input(\"Please enter the width of the room :\"))\n",
    "length=float(input(\"Please enter the length of the room :\"))\n",
    "Area=(width*length)\n",
    "print(\"The Area of the room is :\",Area,\"mts\")"
   ]
  },
  {
   "cell_type": "code",
   "execution_count": 16,
   "metadata": {},
   "outputs": [
    {
     "name": "stdout",
     "output_type": "stream",
     "text": [
      "Please enter the length of the field: 80\n",
      "Please enter the width of the field: 100\n",
      "The Area of the field is : 0.18365472910927455 Acre\n"
     ]
    }
   ],
   "source": [
    "## Area of Field\n",
    "lengthOfField= int(input(\"Please enter the length of the field: \"))\n",
    "widthOfField =int(input(\"Please enter the width of the field: \"))\n",
    "convertToAcre=43560\n",
    "areaOfField= ((lengthOfField*widthOfField)/convertToAcre)\n",
    "print(\"The Area of the field is :\",areaOfField,\"Acre\")\n"
   ]
  },
  {
   "cell_type": "code",
   "execution_count": 90,
   "metadata": {},
   "outputs": [
    {
     "name": "stdout",
     "output_type": "stream",
     "text": [
      "Please enter the number of container holding 1ltr or less than 1 ltr : 2.5\n",
      "Please enter the number of container holding more than 1 ltr : 3.5\n",
      "Congratulations !! you have won a refund of : 1.12 $\n"
     ]
    }
   ],
   "source": [
    "## Bottle Deposits\n",
    "noOfContainer1ltr= float(input(\"Please enter the number of container holding 1ltr or less than 1 ltr : \"))\n",
    "noOfContainerMorethan1ltr=float(input(\"Please enter the number of container holding more than 1 ltr : \"))\n",
    "if((noOfContainer1ltr and noOfContainerMorethan1ltr)>0 or(noOfContainer1ltr==0 and noOfContainerMorethan1ltr>0)or(noOfContainer1ltr>0 and noOfContainerMorethan1ltr==0)):\n",
    "    refund=((noOfContainer1ltr*0.10)+(noOfContainerMorethan1ltr*0.25))\n",
    "    print(\"Congratulations !! you have won a refund of :\",round(refund,2),\"$\")  \n",
    "else:\n",
    "    print(\"Oops !! you just missed a refund!! please recycle next time.\")\n",
    "\n",
    "              \n",
    "\n",
    "     \n",
    "\n"
   ]
  },
  {
   "cell_type": "code",
   "execution_count": 93,
   "metadata": {},
   "outputs": [
    {
     "name": "stdout",
     "output_type": "stream",
     "text": [
      "Please enter the cost of the meal ordered : 550\n",
      "The grand total cost of meal is:  676.5  The tip given for the meal is:  99.0  The tax charged for the meal is:  27.5\n"
     ]
    }
   ],
   "source": [
    "## Tax and Tip\n",
    "costOfmeal=int(input(\"Please enter the cost of the meal ordered : \"))\n",
    "tip=(18*costOfmeal)/100\n",
    "tax=(5*costOfmeal)/100\n",
    "totalMealCost=costOfmeal+tip+tax\n",
    "print(\"The grand total cost of meal is: \",totalMealCost, \" The tip given for the meal is: \",tip,\" The tax charged for the meal is: \",tax)"
   ]
  },
  {
   "cell_type": "code",
   "execution_count": 158,
   "metadata": {},
   "outputs": [
    {
     "name": "stdout",
     "output_type": "stream",
     "text": [
      "Please enter a positive integer: 6\n",
      "The sum of number is is : 21\n",
      "1\n",
      "2\n",
      "3\n",
      "4\n",
      "5\n",
      "6\n",
      "7\n",
      "8\n",
      "9\n",
      "10\n",
      "11\n",
      "12\n",
      "13\n",
      "14\n",
      "15\n",
      "16\n",
      "17\n",
      "18\n",
      "19\n",
      "20\n",
      "Sum of all the elements from 1 to  6  is: 210\n"
     ]
    }
   ],
   "source": [
    "## Sum of the first n positive integers\n",
    "##Write a program that reads a positive integer, n, from the user and then displays the sum of allthe integers from 1 to n. \n",
    "##The sum of the first n positive integers can be computed using the formula: sum = (n)(n + 1)/2\n",
    "number= int(input(\"Please enter a positive integer: \"))\n",
    "total=int((number*(number+1))/2)\n",
    "arr=[]\n",
    "print(\"The sum of number is is :\",total)\n",
    "for i in range(1,total):\n",
    "    print(i)\n",
    "    arr.append(i)\n",
    "final=sum(arr)\n",
    "print(\"Sum of all the elements from 1 to \",number,\" is:\",final);   "
   ]
  },
  {
   "cell_type": "code",
   "execution_count": null,
   "metadata": {},
   "outputs": [],
   "source": []
  }
 ],
 "metadata": {
  "kernelspec": {
   "display_name": "Python 3",
   "language": "python",
   "name": "python3"
  },
  "language_info": {
   "codemirror_mode": {
    "name": "ipython",
    "version": 3
   },
   "file_extension": ".py",
   "mimetype": "text/x-python",
   "name": "python",
   "nbconvert_exporter": "python",
   "pygments_lexer": "ipython3",
   "version": "3.7.3"
  }
 },
 "nbformat": 4,
 "nbformat_minor": 2
}
