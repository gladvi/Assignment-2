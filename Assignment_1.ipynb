{
 "cells": [
  {
   "cell_type": "code",
   "execution_count": 1,
   "metadata": {},
   "outputs": [
    {
     "name": "stdout",
     "output_type": "stream",
     "text": [
      "Hello World, this is my first python programe!!!\n"
     ]
    }
   ],
   "source": [
    "##Assignment -1\n",
    "msg=\"Hello World, this is my first python programe!!!\"\n",
    "print(msg)"
   ]
  },
  {
   "cell_type": "code",
   "execution_count": 2,
   "metadata": {},
   "outputs": [
    {
     "name": "stdout",
     "output_type": "stream",
     "text": [
      "Hello world, I have changed my msg\n"
     ]
    }
   ],
   "source": [
    "msg=\"Hello world, I have changed my msg\"\n",
    "print(msg)\n"
   ]
  },
  {
   "cell_type": "code",
   "execution_count": 5,
   "metadata": {},
   "outputs": [
    {
     "name": "stdout",
     "output_type": "stream",
     "text": [
      "Hello Gladvi Would you like to learn some python today!!\n"
     ]
    }
   ],
   "source": [
    "name=\"Gladvi\"\n",
    "print(\"Hello\",name ,\"Would you like to learn some python today!!\")\n"
   ]
  },
  {
   "cell_type": "code",
   "execution_count": 35,
   "metadata": {},
   "outputs": [
    {
     "name": "stdout",
     "output_type": "stream",
     "text": [
      "Albert Einstein once said , \"A person who never made a mistake never tried anything new.\"\n"
     ]
    }
   ],
   "source": [
    "quote=\"A person who never made a mistake never tried anything new.\"\n",
    "author=\"Albert Einstein\"\n",
    "print(author,\"once said\",\",\",\"\\\"A person who never made a mistake never tried anything new.\\\"\")"
   ]
  },
  {
   "cell_type": "code",
   "execution_count": 43,
   "metadata": {},
   "outputs": [
    {
     "name": "stdout",
     "output_type": "stream",
     "text": [
      "('Albert Einstein', \"'A person who never made a mistake never tried anything new'\")\n"
     ]
    }
   ],
   "source": [
    "##In this program i messed with escape quotes, bose sir please HELPPPP!!! \n",
    "quote=\"A person who never made a mistake never tried anything new.\"\n",
    "famous_person=\"Albert Einstein\"\n",
    "msg=famous_person,'\\'A person who never made a mistake never tried anything new\\''\n",
    "print(msg)"
   ]
  },
  {
   "cell_type": "code",
   "execution_count": 44,
   "metadata": {},
   "outputs": [
    {
     "name": "stdout",
     "output_type": "stream",
     "text": [
      "8\n"
     ]
    }
   ],
   "source": [
    "print(5+3)"
   ]
  },
  {
   "cell_type": "code",
   "execution_count": 46,
   "metadata": {},
   "outputs": [
    {
     "name": "stdout",
     "output_type": "stream",
     "text": [
      "8\n",
      "8\n",
      "8\n",
      "8\n"
     ]
    }
   ],
   "source": [
    "print(4*2)\n",
    "print(5+3)\n",
    "print(10-2)\n",
    "div= int(16/2)\n",
    "print(div)"
   ]
  },
  {
   "cell_type": "code",
   "execution_count": 47,
   "metadata": {},
   "outputs": [
    {
     "name": "stdout",
     "output_type": "stream",
     "text": [
      "my favourite number is 4\n"
     ]
    }
   ],
   "source": [
    "##This program will display my favourite number\n",
    "fav_no=4\n",
    "print(\"my favourite number is\",fav_no)"
   ]
  },
  {
   "cell_type": "code",
   "execution_count": 55,
   "metadata": {},
   "outputs": [
    {
     "name": "stdout",
     "output_type": "stream",
     "text": [
      "gladvi\n",
      "akhila\n",
      "shifa\n",
      "sheetal\n",
      "ritz\n"
     ]
    }
   ],
   "source": [
    "names=[\"gladvi\",\"akhila\",\"shifa\",\"sheetal\",\"ritz\"]\n",
    "for i in names:\n",
    "    print(i)\n"
   ]
  },
  {
   "cell_type": "code",
   "execution_count": 56,
   "metadata": {},
   "outputs": [
    {
     "name": "stdout",
     "output_type": "stream",
     "text": [
      "gladvi ,you are awesome!!\n",
      "akhila ,you are awesome!!\n",
      "shifa ,you are awesome!!\n",
      "sheetal ,you are awesome!!\n",
      "ritz ,you are awesome!!\n"
     ]
    }
   ],
   "source": [
    "names=[\"gladvi\",\"akhila\",\"shifa\",\"sheetal\",\"ritz\"]\n",
    "for i in names:\n",
    "    print(i,\",you are awesome!!\")\n"
   ]
  },
  {
   "cell_type": "code",
   "execution_count": 67,
   "metadata": {},
   "outputs": [
    {
     "name": "stdout",
     "output_type": "stream",
     "text": [
      "I have : Activa\n",
      "I love to drive  Red Jaguar car\n",
      "I would like to own a  Mercedees\n"
     ]
    }
   ],
   "source": [
    "fav_motocycle=[\"Activa\",\"Red Jaguar car\",\"Mercedees\"]\n",
    "##for i in fav_motocycle:\n",
    "print(\"I have :\",fav_motocycle[0])\n",
    "print(\"I love to drive \",fav_motocycle[1])\n",
    "print(\"I would like to own a \",fav_motocycle[2])"
   ]
  },
  {
   "cell_type": "code",
   "execution_count": null,
   "metadata": {},
   "outputs": [],
   "source": []
  }
 ],
 "metadata": {
  "kernelspec": {
   "display_name": "Python 3",
   "language": "python",
   "name": "python3"
  },
  "language_info": {
   "codemirror_mode": {
    "name": "ipython",
    "version": 3
   },
   "file_extension": ".py",
   "mimetype": "text/x-python",
   "name": "python",
   "nbconvert_exporter": "python",
   "pygments_lexer": "ipython3",
   "version": "3.7.3"
  }
 },
 "nbformat": 4,
 "nbformat_minor": 2
}
